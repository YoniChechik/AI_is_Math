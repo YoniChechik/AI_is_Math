{
 "cells": [
  {
   "cell_type": "markdown",
   "metadata": {},
   "source": [
    "# Python Workshop: Basics I\n",
    "\n",
    "[If you are looking for the **Python, VSCode & packages installation guide**, [it's here.](https://www.aiismath.com/pages/python_vscode_installation/python_vscode_installation/)]\n",
    "\n",
    "[![Open In Colab](https://colab.research.google.com/assets/colab-badge.svg)](https://colab.research.google.com/github/YoniChechik/AI_is_Math/blob/master/c_01_intro_to_CV_and_Python/basic_python_tutorial.ipynb)\n",
    " <hr>\n",
    "\n",
    "Based on:\n",
    "\n",
    "this [git](https://github.com/zhiyzuo/python-tutorial) of Zhiya Zuo\n",
    "\n",
    "&\n",
    "\n",
    "tutorials from [tutorialspoint](https://www.tutorialspoint.com/python)\n",
    "\n",
    "<hr>\n",
    "\n",
    "## Introduction\n",
    "\n",
    "Python is an interpreted, high-level, general-purpose programming language. Created by Guido van Rossum and first released in 1991, Python's design philosophy emphasizes code readability. The language construction and object-oriented approach aims to help programmers write clear, logical code for small and large-scale projects. [Wikipedia]\n",
    "\n",
    "- Python is Interpreted - Python is processed at runtime by the interpreter. You do not need to compile your program before executing it. This is similar to PERL, PHP and MATLAB.\n",
    "\n",
    "- Python is Interactive - You can actually sit at a Python prompt and interact with the interpreter directly to write your programs.\n",
    "\n",
    "- Python is Object-Oriented - Python supports Object-Oriented style or technique of programming that encapsulates code within objects.\n",
    "\n",
    "- Popular Language for Data Analysis - Most of the time, you will need external packages to assist data analyses.\n",
    "\n",
    " ![Python Packages](http://i.imgur.com/Q8trGd1.png)\n",
    "\n",
    "### VSCode\n",
    "\n",
    "VSCode is currently (2019) the most commonly used IDE (Integrated development environment) for programing in python.\n",
    "\n",
    "for complete tutorial on **installation** of Python + VSCode + additional packages please refer to [this page](https://www.aiismath.com/pages/python_vscode_installation/python_vscode_installation/).\n",
    "\n",
    "<img src=\"https://upload.wikimedia.org/wikipedia/commons/a/a1/VSCode_Logo.svg\" alt=\"vscode logo\" width=\"200\"/>\n",
    "\n",
    "### Jupyter notebook\n",
    "\n",
    "Jupyter is an easy way to merge code and explanations in a beautiful way.\n",
    "\n",
    "The easiest way to interact with such notebook (.ipynb) is with [google colab](https://colab.research.google.com). There you can run each cell independently or all cells combined through 'Runtime' section or the play button.\n",
    "\n",
    "the main disadvantage of google colab is that debugging there is problematic.\n",
    "\n",
    "<img src=\"https://upload.wikimedia.org/wikipedia/commons/3/38/Jupyter_logo.svg\" alt=\"jupyter logo\" width=\"200\"/>\n",
    "\n",
    "### Naming convention\n",
    "\n",
    "There are two commonly used style in programming:\n",
    "\n",
    "1. __camelCase__\n",
    "2. __snake_case__ or __lower_case_with_underscore__\n",
    "\n",
    "Always make sure you use one convention consistently across one project.\n",
    "\n",
    "All variable (function and class) names must start with a letter or underscore (_). You can include numbers, but it can't be the first char.\n",
    "\n"
   ]
  },
  {
   "cell_type": "code",
   "execution_count": 1,
   "metadata": {
    "execution": {
     "iopub.execute_input": "2025-01-02T09:30:49.773821Z",
     "iopub.status.busy": "2025-01-02T09:30:49.773821Z",
     "iopub.status.idle": "2025-01-02T09:30:49.781554Z",
     "shell.execute_reply": "2025-01-02T09:30:49.781554Z"
    }
   },
   "outputs": [],
   "source": [
    "myStringHere = \"my string\"  # valid\n",
    "x = 3  # valid\n",
    "x_3 = \"xyz\"  # valid\n",
    "# 3_x = \"456\" # invalid. Numbers cannot be in the first position.\n"
   ]
  },
  {
   "cell_type": "markdown",
   "metadata": {},
   "source": [
    "### Lines and indentation\n",
    "Python doesn't need braces to indicate blocks of code for class and function definitions or flow control.\n",
    "Blocks of code are denoted by line indentation (Tabs), which is rigidly enforced.\n",
    "\n"
   ]
  },
  {
   "cell_type": "code",
   "execution_count": 2,
   "metadata": {
    "execution": {
     "iopub.execute_input": "2025-01-02T09:30:49.781554Z",
     "iopub.status.busy": "2025-01-02T09:30:49.781554Z",
     "iopub.status.idle": "2025-01-02T09:30:49.786730Z",
     "shell.execute_reply": "2025-01-02T09:30:49.786730Z"
    }
   },
   "outputs": [
    {
     "name": "stdout",
     "output_type": "stream",
     "text": [
      "True\n"
     ]
    }
   ],
   "source": [
    "if True:\n",
    "    print(\"True\")\n",
    "else:\n",
    "    print(\"False\")\n"
   ]
  },
  {
   "cell_type": "markdown",
   "metadata": {},
   "source": [
    "### Indexing\n",
    "\n",
    "Indexing in python start from 0 (like c, unlike Matlab). Accessing a range of list/array is, by convetion, `some_list[start_ind:end_ind_minus_one]`\n",
    "\n",
    "\n"
   ]
  },
  {
   "cell_type": "code",
   "execution_count": 3,
   "metadata": {
    "execution": {
     "iopub.execute_input": "2025-01-02T09:30:49.805922Z",
     "iopub.status.busy": "2025-01-02T09:30:49.805922Z",
     "iopub.status.idle": "2025-01-02T09:30:49.813279Z",
     "shell.execute_reply": "2025-01-02T09:30:49.813279Z"
    }
   },
   "outputs": [
    {
     "name": "stdout",
     "output_type": "stream",
     "text": [
      "y = 0\n",
      "y = 2\n",
      "y = [0, 1]\n",
      "y = [0, 1]\n",
      "y = [3, 4, 5, 6, 7, 8, 9]\n",
      "y = [3, 4, 5, 6, 7, 8, 9]\n"
     ]
    }
   ],
   "source": [
    "x = [0, 1, 2, 3, 4, 5, 6, 7, 8, 9]\n",
    "\n",
    "y = x[0]  # get element 0\n",
    "print(\"y = \" + str(y))\n",
    "\n",
    "y = x[2]  # get element 2\n",
    "print(\"y = \" + str(y))\n",
    "\n",
    "y = x[0:2]  # get elements 0,1\n",
    "print(\"y = \" + str(y))\n",
    "\n",
    "y = x[:2]  # same as [0:2]\n",
    "print(\"y = \" + str(y))\n",
    "\n",
    "y = x[3:10]\n",
    "print(\"y = \" + str(y))\n",
    "\n",
    "y = x[3:]  # same as above\n",
    "print(\"y = \" + str(y))\n"
   ]
  },
  {
   "cell_type": "markdown",
   "metadata": {},
   "source": [
    "You can also go to last element easily:\n",
    "\n"
   ]
  },
  {
   "cell_type": "code",
   "execution_count": 4,
   "metadata": {
    "execution": {
     "iopub.execute_input": "2025-01-02T09:30:49.813279Z",
     "iopub.status.busy": "2025-01-02T09:30:49.813279Z",
     "iopub.status.idle": "2025-01-02T09:30:49.817625Z",
     "shell.execute_reply": "2025-01-02T09:30:49.817625Z"
    }
   },
   "outputs": [
    {
     "name": "stdout",
     "output_type": "stream",
     "text": [
      "y = 9\n",
      "y = [0, 1, 2, 3, 4, 5, 6, 7, 8]\n",
      "y = [7, 8, 9]\n"
     ]
    }
   ],
   "source": [
    "y = x[-1]  # last element\n",
    "print(\"y = \" + str(y))\n",
    "\n",
    "y = x[:-1]  # all until the last element - noninclusive\n",
    "print(\"y = \" + str(y))\n",
    "\n",
    "y = x[-3:]  # last three elements\n",
    "print(\"y = \" + str(y))\n"
   ]
  },
  {
   "cell_type": "markdown",
   "metadata": {},
   "source": [
    "Step size is also an option:\n",
    "\n"
   ]
  },
  {
   "cell_type": "code",
   "execution_count": 5,
   "metadata": {
    "execution": {
     "iopub.execute_input": "2025-01-02T09:30:49.817625Z",
     "iopub.status.busy": "2025-01-02T09:30:49.817625Z",
     "iopub.status.idle": "2025-01-02T09:30:49.821786Z",
     "shell.execute_reply": "2025-01-02T09:30:49.821786Z"
    }
   },
   "outputs": [
    {
     "name": "stdout",
     "output_type": "stream",
     "text": [
      "y = [0, 2]\n",
      "y = [1, 3]\n",
      "y = [0, 3, 6, 9]\n",
      "y = [9, 8, 7, 6, 5, 4, 3, 2, 1, 0]\n"
     ]
    }
   ],
   "source": [
    "y = x[0:3:2]  # only evens until 3 noninclusive\n",
    "print(\"y = \" + str(y))\n",
    "\n",
    "y = x[1:5:2]  # only odds until 5 noninclusive\n",
    "print(\"y = \" + str(y))\n",
    "\n",
    "y = x[::3]  # +3 step size - entire list\n",
    "print(\"y = \" + str(y))\n",
    "\n",
    "y = x[::-1]  # reverse!\n",
    "print(\"y = \" + str(y))\n"
   ]
  },
  {
   "cell_type": "markdown",
   "metadata": {},
   "source": [
    "## Primitives\n",
    "In this section, we go over some common primitive data types in Python.\n",
    "While the word _primitive_ looks obscure, we can think of it as the most basic data type that cannot be further decomposed into simpler ones.\n",
    "### Numbers\n",
    "numbers without fractional partsare called ___integer___. In Python, they are abbreviated as `int`\n",
    "\n"
   ]
  },
  {
   "cell_type": "code",
   "execution_count": 6,
   "metadata": {
    "execution": {
     "iopub.execute_input": "2025-01-02T09:30:49.822481Z",
     "iopub.status.busy": "2025-01-02T09:30:49.822481Z",
     "iopub.status.idle": "2025-01-02T09:30:49.827112Z",
     "shell.execute_reply": "2025-01-02T09:30:49.827112Z"
    }
   },
   "outputs": [
    {
     "data": {
      "text/plain": [
       "int"
      ]
     },
     "execution_count": 6,
     "metadata": {},
     "output_type": "execute_result"
    }
   ],
   "source": [
    "x = 3\n",
    "type(x)\n"
   ]
  },
  {
   "cell_type": "markdown",
   "metadata": {},
   "source": [
    "numbers with fractional part are floating point numbers. They are named `float` in Python.\n",
    "\n"
   ]
  },
  {
   "cell_type": "code",
   "execution_count": 7,
   "metadata": {
    "execution": {
     "iopub.execute_input": "2025-01-02T09:30:49.827112Z",
     "iopub.status.busy": "2025-01-02T09:30:49.827112Z",
     "iopub.status.idle": "2025-01-02T09:30:49.831257Z",
     "shell.execute_reply": "2025-01-02T09:30:49.831257Z"
    }
   },
   "outputs": [
    {
     "data": {
      "text/plain": [
       "float"
      ]
     },
     "execution_count": 7,
     "metadata": {},
     "output_type": "execute_result"
    }
   ],
   "source": [
    "y = 3.0\n",
    "type(y)\n"
   ]
  },
  {
   "cell_type": "markdown",
   "metadata": {},
   "source": [
    "We can apply arithmetic to these numbers. However, one thing we need to be careful about is ___type conversion___. See the example below.\n",
    "\n"
   ]
  },
  {
   "cell_type": "code",
   "execution_count": 8,
   "metadata": {
    "execution": {
     "iopub.execute_input": "2025-01-02T09:30:49.831257Z",
     "iopub.status.busy": "2025-01-02T09:30:49.831257Z",
     "iopub.status.idle": "2025-01-02T09:30:49.835324Z",
     "shell.execute_reply": "2025-01-02T09:30:49.835324Z"
    }
   },
   "outputs": [
    {
     "data": {
      "text/plain": [
       "int"
      ]
     },
     "execution_count": 8,
     "metadata": {},
     "output_type": "execute_result"
    }
   ],
   "source": [
    "z = 2 * x  # int times int\n",
    "type(z)\n"
   ]
  },
  {
   "cell_type": "code",
   "execution_count": 9,
   "metadata": {
    "execution": {
     "iopub.execute_input": "2025-01-02T09:30:49.835324Z",
     "iopub.status.busy": "2025-01-02T09:30:49.835324Z",
     "iopub.status.idle": "2025-01-02T09:30:49.840422Z",
     "shell.execute_reply": "2025-01-02T09:30:49.840422Z"
    }
   },
   "outputs": [
    {
     "name": "stdout",
     "output_type": "stream",
     "text": [
      "27.0\n"
     ]
    },
    {
     "data": {
      "text/plain": [
       "float"
      ]
     },
     "execution_count": 9,
     "metadata": {},
     "output_type": "execute_result"
    }
   ],
   "source": [
    "z = y**x  # int to the power float\n",
    "print(z)\n",
    "type(z)\n"
   ]
  },
  {
   "cell_type": "code",
   "execution_count": 10,
   "metadata": {
    "execution": {
     "iopub.execute_input": "2025-01-02T09:30:49.840422Z",
     "iopub.status.busy": "2025-01-02T09:30:49.840422Z",
     "iopub.status.idle": "2025-01-02T09:30:49.844562Z",
     "shell.execute_reply": "2025-01-02T09:30:49.844562Z"
    }
   },
   "outputs": [
    {
     "data": {
      "text/plain": [
       "1.5"
      ]
     },
     "execution_count": 10,
     "metadata": {},
     "output_type": "execute_result"
    }
   ],
   "source": [
    "z = x / 2  # what will happen when dividing two ints?\n",
    "z\n"
   ]
  },
  {
   "cell_type": "markdown",
   "metadata": {},
   "source": [
    "### Boolean\n",
    "Boolean type comes in handy when we need to check conditions. For example:\n",
    "\n"
   ]
  },
  {
   "cell_type": "code",
   "execution_count": 11,
   "metadata": {
    "execution": {
     "iopub.execute_input": "2025-01-02T09:30:49.844562Z",
     "iopub.status.busy": "2025-01-02T09:30:49.844562Z",
     "iopub.status.idle": "2025-01-02T09:30:49.848283Z",
     "shell.execute_reply": "2025-01-02T09:30:49.848283Z"
    }
   },
   "outputs": [
    {
     "name": "stdout",
     "output_type": "stream",
     "text": [
      "False\n",
      "<class 'bool'>\n"
     ]
    }
   ],
   "source": [
    "my_error = 1.6\n",
    "compare_result = my_error < 0.1\n",
    "print(compare_result)\n",
    "print(type(compare_result))\n"
   ]
  },
  {
   "cell_type": "markdown",
   "metadata": {},
   "source": [
    "There are two valid Boolean values: `True` and `False`. We can also think of them as `1` and `0`, respectively.\n",
    "\n"
   ]
  },
  {
   "cell_type": "code",
   "execution_count": 12,
   "metadata": {
    "execution": {
     "iopub.execute_input": "2025-01-02T09:30:49.848283Z",
     "iopub.status.busy": "2025-01-02T09:30:49.848283Z",
     "iopub.status.idle": "2025-01-02T09:30:49.852102Z",
     "shell.execute_reply": "2025-01-02T09:30:49.852102Z"
    }
   },
   "outputs": [
    {
     "data": {
      "text/plain": [
       "True"
      ]
     },
     "execution_count": 12,
     "metadata": {},
     "output_type": "execute_result"
    }
   ],
   "source": [
    "my_error > 0\n"
   ]
  },
  {
   "cell_type": "markdown",
   "metadata": {},
   "source": [
    "When we use Boolean values for arithmetic operations, they will become `1/0` automatically\n",
    "\n"
   ]
  },
  {
   "cell_type": "code",
   "execution_count": 13,
   "metadata": {
    "execution": {
     "iopub.execute_input": "2025-01-02T09:30:49.852102Z",
     "iopub.status.busy": "2025-01-02T09:30:49.852102Z",
     "iopub.status.idle": "2025-01-02T09:30:49.855783Z",
     "shell.execute_reply": "2025-01-02T09:30:49.855783Z"
    }
   },
   "outputs": [
    {
     "data": {
      "text/plain": [
       "3"
      ]
     },
     "execution_count": 13,
     "metadata": {},
     "output_type": "execute_result"
    }
   ],
   "source": [
    "(my_error > 0) + 2\n"
   ]
  },
  {
   "cell_type": "markdown",
   "metadata": {},
   "source": [
    "### Strings\n",
    "In Python, we use `str` type for storing letters, words, and any other characters.\n",
    "\n",
    "To initialize a string variable, you can use either double or single quotes.\n",
    "\n"
   ]
  },
  {
   "cell_type": "code",
   "execution_count": 14,
   "metadata": {
    "execution": {
     "iopub.execute_input": "2025-01-02T09:30:49.855783Z",
     "iopub.status.busy": "2025-01-02T09:30:49.855783Z",
     "iopub.status.idle": "2025-01-02T09:30:49.859655Z",
     "shell.execute_reply": "2025-01-02T09:30:49.859655Z"
    }
   },
   "outputs": [
    {
     "name": "stdout",
     "output_type": "stream",
     "text": [
      "see you\n",
      "<class 'str'>\n",
      "see you later\n",
      "<class 'str'>\n"
     ]
    }
   ],
   "source": [
    "my_str1 = \"see you\"\n",
    "print(my_str1)\n",
    "print(type(my_str1))\n",
    "\n",
    "my_str2 = \"see you later\"\n",
    "print(my_str2)\n",
    "print(type(my_str2))\n"
   ]
  },
  {
   "cell_type": "markdown",
   "metadata": {},
   "source": [
    "We can also use `+` to _concatenate_ different strings\n",
    "\n"
   ]
  },
  {
   "cell_type": "code",
   "execution_count": 15,
   "metadata": {
    "execution": {
     "iopub.execute_input": "2025-01-02T09:30:49.859655Z",
     "iopub.status.busy": "2025-01-02T09:30:49.859655Z",
     "iopub.status.idle": "2025-01-02T09:30:49.863646Z",
     "shell.execute_reply": "2025-01-02T09:30:49.863646Z"
    }
   },
   "outputs": [
    {
     "data": {
      "text/plain": [
       "'see you tomorrow'"
      ]
     },
     "execution_count": 15,
     "metadata": {},
     "output_type": "execute_result"
    }
   ],
   "source": [
    "my_str1 + \" tomorrow\"\n"
   ]
  },
  {
   "cell_type": "markdown",
   "metadata": {},
   "source": [
    "One way of formatting strings is equivalent to c language:\n",
    "\n"
   ]
  },
  {
   "cell_type": "code",
   "execution_count": 16,
   "metadata": {
    "execution": {
     "iopub.execute_input": "2025-01-02T09:30:49.863646Z",
     "iopub.status.busy": "2025-01-02T09:30:49.863646Z",
     "iopub.status.idle": "2025-01-02T09:30:49.867757Z",
     "shell.execute_reply": "2025-01-02T09:30:49.867757Z"
    }
   },
   "outputs": [
    {
     "name": "stdout",
     "output_type": "stream",
     "text": [
      "1/3 is approximately 0.33\n",
      " 'see you' != 'see you later'\n"
     ]
    }
   ],
   "source": [
    "print(\"1/3 is approximately %.2f\" % (1 / 3))  # %f for floating point number\n",
    "print(\" '%s' != '%s'\" % (my_str1, my_str2))  # %s for string\n"
   ]
  },
  {
   "cell_type": "markdown",
   "metadata": {},
   "source": [
    "you can also simply do string concatenation:\n",
    "\n"
   ]
  },
  {
   "cell_type": "code",
   "execution_count": 17,
   "metadata": {
    "execution": {
     "iopub.execute_input": "2025-01-02T09:30:49.867757Z",
     "iopub.status.busy": "2025-01-02T09:30:49.867757Z",
     "iopub.status.idle": "2025-01-02T09:30:49.871463Z",
     "shell.execute_reply": "2025-01-02T09:30:49.871463Z"
    }
   },
   "outputs": [
    {
     "name": "stdout",
     "output_type": "stream",
     "text": [
      "Printing a string: see you, and printing a number: 3\n"
     ]
    }
   ],
   "source": [
    "print(\"Printing a string: \" + my_str1 + \", and printing a number: \" + str(3))\n"
   ]
  },
  {
   "cell_type": "markdown",
   "metadata": {},
   "source": [
    "`str` is an **iterable object,** meaning that we can iterate through each individual character:\n",
    "\n"
   ]
  },
  {
   "cell_type": "code",
   "execution_count": 18,
   "metadata": {
    "execution": {
     "iopub.execute_input": "2025-01-02T09:30:49.872412Z",
     "iopub.status.busy": "2025-01-02T09:30:49.872412Z",
     "iopub.status.idle": "2025-01-02T09:30:49.875235Z",
     "shell.execute_reply": "2025-01-02T09:30:49.875235Z"
    }
   },
   "outputs": [
    {
     "name": "stdout",
     "output_type": "stream",
     "text": [
      "s\n",
      "e yo\n"
     ]
    }
   ],
   "source": [
    "print(my_str1[0])\n",
    "print(my_str1[2:6])\n"
   ]
  },
  {
   "cell_type": "markdown",
   "metadata": {},
   "source": [
    "## Data Structures\n",
    "In this section, we discuss some ___nonprimitive___ data structures in Python.\n",
    "### List\n",
    "Initialize a list with brackets. You can store anything in a list, even if they are different types\n",
    "\n",
    "\n"
   ]
  },
  {
   "cell_type": "code",
   "execution_count": 19,
   "metadata": {
    "execution": {
     "iopub.execute_input": "2025-01-02T09:30:49.875235Z",
     "iopub.status.busy": "2025-01-02T09:30:49.875235Z",
     "iopub.status.idle": "2025-01-02T09:30:49.879409Z",
     "shell.execute_reply": "2025-01-02T09:30:49.879409Z"
    }
   },
   "outputs": [
    {
     "name": "stdout",
     "output_type": "stream",
     "text": [
      "Length of a_list is: 3\n",
      "The 3rd element of a_list is: 3\n",
      "The last element of a_list is: 3\n",
      "The sum of a_list is 6.00\n"
     ]
    }
   ],
   "source": [
    "a_list = [1, 2, 3]  # commas to separate elements\n",
    "print(\"Length of a_list is: %i\" % (len(a_list)))\n",
    "print(\"The 3rd element of a_list is: %s\" % (a_list[2]))  # Remember Python starts with 0\n",
    "print(\"The last element of a_list is: %s\" % (a_list[-1]))  # -1 means the end\n",
    "print(\"The sum of a_list is %.2f\" % (sum(a_list)))\n"
   ]
  },
  {
   "cell_type": "markdown",
   "metadata": {},
   "source": [
    "We can put different types in a list\n",
    "\n"
   ]
  },
  {
   "cell_type": "code",
   "execution_count": 20,
   "metadata": {
    "execution": {
     "iopub.execute_input": "2025-01-02T09:30:49.879409Z",
     "iopub.status.busy": "2025-01-02T09:30:49.879409Z",
     "iopub.status.idle": "2025-01-02T09:30:49.882894Z",
     "shell.execute_reply": "2025-01-02T09:30:49.882894Z"
    }
   },
   "outputs": [
    {
     "name": "stdout",
     "output_type": "stream",
     "text": [
      "[20, True, 'good', 'good']\n"
     ]
    }
   ],
   "source": [
    "b_list = [20, True, \"good\", \"good\"]\n",
    "print(b_list)\n"
   ]
  },
  {
   "cell_type": "markdown",
   "metadata": {},
   "source": [
    "Update a list: __pop__, __remove__, __append__, __extend__\n",
    "\n"
   ]
  },
  {
   "cell_type": "code",
   "execution_count": 21,
   "metadata": {
    "execution": {
     "iopub.execute_input": "2025-01-02T09:30:49.882894Z",
     "iopub.status.busy": "2025-01-02T09:30:49.882894Z",
     "iopub.status.idle": "2025-01-02T09:30:49.886574Z",
     "shell.execute_reply": "2025-01-02T09:30:49.886574Z"
    }
   },
   "outputs": [
    {
     "name": "stdout",
     "output_type": "stream",
     "text": [
      "[1, 2, 3]\n",
      "Pop 2 out of a_list\n",
      "[1, 3]\n"
     ]
    }
   ],
   "source": [
    "print(a_list)\n",
    "print(\"Pop %i out of a_list\" % a_list.pop(1))  # pop the value of an index\n",
    "print(a_list)\n"
   ]
  },
  {
   "cell_type": "code",
   "execution_count": 22,
   "metadata": {
    "execution": {
     "iopub.execute_input": "2025-01-02T09:30:49.888407Z",
     "iopub.status.busy": "2025-01-02T09:30:49.886574Z",
     "iopub.status.idle": "2025-01-02T09:30:49.890362Z",
     "shell.execute_reply": "2025-01-02T09:30:49.890362Z"
    }
   },
   "outputs": [
    {
     "name": "stdout",
     "output_type": "stream",
     "text": [
      "Remove the string good from b_list:\n",
      "[20, True, 'good']\n"
     ]
    }
   ],
   "source": [
    "print(\"Remove the string good from b_list:\")\n",
    "b_list.remove(\"good\")  # remove a specific value (the first one in the list)\n",
    "print(b_list)\n"
   ]
  },
  {
   "cell_type": "code",
   "execution_count": 23,
   "metadata": {
    "execution": {
     "iopub.execute_input": "2025-01-02T09:30:49.890362Z",
     "iopub.status.busy": "2025-01-02T09:30:49.890362Z",
     "iopub.status.idle": "2025-01-02T09:30:49.894229Z",
     "shell.execute_reply": "2025-01-02T09:30:49.894229Z"
    }
   },
   "outputs": [
    {
     "name": "stdout",
     "output_type": "stream",
     "text": [
      "After appending a new value, a_list is now: [1, 3, 10]\n"
     ]
    }
   ],
   "source": [
    "a_list.append(10)\n",
    "print(\"After appending a new value, a_list is now: %s\" % (str(a_list)))\n"
   ]
  },
  {
   "cell_type": "markdown",
   "metadata": {},
   "source": [
    "merge `a_list` and `b_list`:\n",
    "\n"
   ]
  },
  {
   "cell_type": "code",
   "execution_count": 24,
   "metadata": {
    "execution": {
     "iopub.execute_input": "2025-01-02T09:30:49.894229Z",
     "iopub.status.busy": "2025-01-02T09:30:49.894229Z",
     "iopub.status.idle": "2025-01-02T09:30:49.898075Z",
     "shell.execute_reply": "2025-01-02T09:30:49.898075Z"
    }
   },
   "outputs": [
    {
     "name": "stdout",
     "output_type": "stream",
     "text": [
      "Merging a_list and b_list: [1, 3, 10, 20, True, 'good']\n"
     ]
    }
   ],
   "source": [
    "a_list.extend(b_list)\n",
    "print(\"Merging a_list and b_list: %s\" % (str(a_list)))\n"
   ]
  },
  {
   "cell_type": "markdown",
   "metadata": {},
   "source": [
    "We can also use `+` to concatenate two lists\n",
    "\n"
   ]
  },
  {
   "cell_type": "code",
   "execution_count": 25,
   "metadata": {
    "execution": {
     "iopub.execute_input": "2025-01-02T09:30:49.898075Z",
     "iopub.status.busy": "2025-01-02T09:30:49.898075Z",
     "iopub.status.idle": "2025-01-02T09:30:49.902365Z",
     "shell.execute_reply": "2025-01-02T09:30:49.902365Z"
    }
   },
   "outputs": [
    {
     "data": {
      "text/plain": [
       "[1, 3, 10, 20, True, 'good', 20, True, 'good']"
      ]
     },
     "execution_count": 25,
     "metadata": {},
     "output_type": "execute_result"
    }
   ],
   "source": [
    "a_list + b_list\n"
   ]
  },
  {
   "cell_type": "markdown",
   "metadata": {},
   "source": [
    "### Tuple\n",
    "Tuple is a special case of list whose elements cannot be changed (immutable).\n",
    "\n",
    "Initialize a tuple with parenthesis:\n",
    "\n"
   ]
  },
  {
   "cell_type": "code",
   "execution_count": 26,
   "metadata": {
    "execution": {
     "iopub.execute_input": "2025-01-02T09:30:49.902365Z",
     "iopub.status.busy": "2025-01-02T09:30:49.902365Z",
     "iopub.status.idle": "2025-01-02T09:30:49.906364Z",
     "shell.execute_reply": "2025-01-02T09:30:49.906364Z"
    }
   },
   "outputs": [
    {
     "name": "stdout",
     "output_type": "stream",
     "text": [
      "(1, 2, 3, 10)\n",
      "First element of a_tuple: 1\n"
     ]
    }
   ],
   "source": [
    "a_tuple = (1, 2, 3, 10)\n",
    "print(a_tuple)\n",
    "print(\"First element of a_tuple: %i\" % a_tuple[0])\n"
   ]
  },
  {
   "cell_type": "markdown",
   "metadata": {},
   "source": [
    "You can't change the values of a tuple:\n",
    "\n"
   ]
  },
  {
   "cell_type": "code",
   "execution_count": 27,
   "metadata": {
    "execution": {
     "iopub.execute_input": "2025-01-02T09:30:49.906364Z",
     "iopub.status.busy": "2025-01-02T09:30:49.906364Z",
     "iopub.status.idle": "2025-01-02T09:30:49.909801Z",
     "shell.execute_reply": "2025-01-02T09:30:49.909801Z"
    }
   },
   "outputs": [],
   "source": [
    "# a_tuple[0] = 5\n",
    "\n"
   ]
  },
  {
   "cell_type": "markdown",
   "metadata": {},
   "source": [
    "In order to create a single value tuple, you need to add a ','\n",
    "\n"
   ]
  },
  {
   "cell_type": "code",
   "execution_count": 28,
   "metadata": {
    "execution": {
     "iopub.execute_input": "2025-01-02T09:30:49.909801Z",
     "iopub.status.busy": "2025-01-02T09:30:49.909801Z",
     "iopub.status.idle": "2025-01-02T09:30:49.913517Z",
     "shell.execute_reply": "2025-01-02T09:30:49.913517Z"
    }
   },
   "outputs": [
    {
     "name": "stdout",
     "output_type": "stream",
     "text": [
      "<class 'int'>\n",
      "<class 'tuple'>\n"
     ]
    }
   ],
   "source": [
    "a_tuple = 1  # this would create a int type\n",
    "print(type(a_tuple))\n",
    "b_tuple = (1,)  # this would create a tuple type, take note of the comma.\n",
    "print(type(b_tuple))\n"
   ]
  },
  {
   "cell_type": "markdown",
   "metadata": {},
   "source": [
    "### Dictionary\n",
    " Dictionary: key-value pairs\n",
    "\n",
    "Initialize a dict by curly brackets `{}`\n",
    "\n"
   ]
  },
  {
   "cell_type": "code",
   "execution_count": 29,
   "metadata": {
    "execution": {
     "iopub.execute_input": "2025-01-02T09:30:49.913517Z",
     "iopub.status.busy": "2025-01-02T09:30:49.913517Z",
     "iopub.status.idle": "2025-01-02T09:30:49.917119Z",
     "shell.execute_reply": "2025-01-02T09:30:49.917119Z"
    }
   },
   "outputs": [
    {
     "name": "stdout",
     "output_type": "stream",
     "text": [
      "{1: '1 value'}\n"
     ]
    }
   ],
   "source": [
    "d = {}  # empty dictionary\n",
    "# add a key-value by using bracket (key). You can put anything in key/value.\n",
    "d[1] = \"1 value\"\n",
    "print(d)\n"
   ]
  },
  {
   "cell_type": "code",
   "execution_count": 30,
   "metadata": {
    "execution": {
     "iopub.execute_input": "2025-01-02T09:30:49.917119Z",
     "iopub.status.busy": "2025-01-02T09:30:49.917119Z",
     "iopub.status.idle": "2025-01-02T09:30:49.921096Z",
     "shell.execute_reply": "2025-01-02T09:30:49.921096Z"
    }
   },
   "outputs": [
    {
     "name": "stdout",
     "output_type": "stream",
     "text": [
      "{1: '1 value', 2: '2 value', 3: '3 value', 4: '4 value', 5: '5 value', 6: '6 value', 7: '7 value', 8: '8 value', 9: '9 value'}\n",
      "All the keys: dict_keys([1, 2, 3, 4, 5, 6, 7, 8, 9])\n",
      "All the values: dict_values(['1 value', '2 value', '3 value', '4 value', '5 value', '6 value', '7 value', '8 value', '9 value'])\n"
     ]
    }
   ],
   "source": [
    "# Use for loop to add values\n",
    "for index in range(2, 10):\n",
    "    d[index] = \"%i value\" % index\n",
    "print(d)\n",
    "print(\"All the keys: \" + str(d.keys()))\n",
    "print(\"All the values: \" + str(d.values()))\n"
   ]
  },
  {
   "cell_type": "code",
   "execution_count": 31,
   "metadata": {
    "execution": {
     "iopub.execute_input": "2025-01-02T09:30:49.922740Z",
     "iopub.status.busy": "2025-01-02T09:30:49.922740Z",
     "iopub.status.idle": "2025-01-02T09:30:49.925094Z",
     "shell.execute_reply": "2025-01-02T09:30:49.925094Z"
    }
   },
   "outputs": [
    {
     "name": "stdout",
     "output_type": "stream",
     "text": [
      "Key is: 1, Value is : 1 value\n",
      "Key is: 2, Value is : 2 value\n",
      "Key is: 3, Value is : 3 value\n",
      "Key is: 4, Value is : 4 value\n",
      "Key is: 5, Value is : 5 value\n",
      "Key is: 6, Value is : 6 value\n",
      "Key is: 7, Value is : 7 value\n",
      "Key is: 8, Value is : 8 value\n",
      "Key is: 9, Value is : 9 value\n"
     ]
    }
   ],
   "source": [
    "for key in d:\n",
    "    print(\"Key is: %i, Value is : %s\" % (key, d[key]))\n"
   ]
  },
  {
   "cell_type": "markdown",
   "metadata": {},
   "source": [
    "### Side note: mutable Vs. immutable objects\n",
    "\n",
    "**Everything in Python is an object**, and object can be either mutable (changeable after creation) or immutable.\n",
    "Almost all Python objects are mutable, except from the primitives (numbers, booleans, strings) and tuples\n",
    "\n",
    "Why it's interesting? because when you reference a new variable, it's always soft link (like a shortcut in windows), and if you change a mutable object, it reference changes too! Something that can cause big bugs!\n",
    "\n"
   ]
  },
  {
   "cell_type": "code",
   "execution_count": 32,
   "metadata": {
    "execution": {
     "iopub.execute_input": "2025-01-02T09:30:49.925094Z",
     "iopub.status.busy": "2025-01-02T09:30:49.925094Z",
     "iopub.status.idle": "2025-01-02T09:30:49.929037Z",
     "shell.execute_reply": "2025-01-02T09:30:49.929037Z"
    }
   },
   "outputs": [
    {
     "name": "stdout",
     "output_type": "stream",
     "text": [
      "Hello\n",
      "Hello World!\n"
     ]
    }
   ],
   "source": [
    "# immutable object: no problem\n",
    "a = \"Hello\"\n",
    "b = a\n",
    "b = b + \" World!\"\n",
    "print(a)\n",
    "print(b)\n"
   ]
  },
  {
   "cell_type": "code",
   "execution_count": 33,
   "metadata": {
    "execution": {
     "iopub.execute_input": "2025-01-02T09:30:49.929037Z",
     "iopub.status.busy": "2025-01-02T09:30:49.929037Z",
     "iopub.status.idle": "2025-01-02T09:30:49.932643Z",
     "shell.execute_reply": "2025-01-02T09:30:49.932643Z"
    }
   },
   "outputs": [
    {
     "name": "stdout",
     "output_type": "stream",
     "text": [
      "['World!']\n",
      "['World!']\n"
     ]
    }
   ],
   "source": [
    "# mutable object: big problem\n",
    "a = [\"Hello\"]\n",
    "b = a\n",
    "b[0] = \"World!\"\n",
    "print(a)\n",
    "print(b)\n"
   ]
  },
  {
   "cell_type": "code",
   "execution_count": 34,
   "metadata": {
    "execution": {
     "iopub.execute_input": "2025-01-02T09:30:49.932643Z",
     "iopub.status.busy": "2025-01-02T09:30:49.932643Z",
     "iopub.status.idle": "2025-01-02T09:30:49.936226Z",
     "shell.execute_reply": "2025-01-02T09:30:49.936226Z"
    }
   },
   "outputs": [
    {
     "name": "stdout",
     "output_type": "stream",
     "text": [
      "['World!']\n",
      "['other world']\n"
     ]
    }
   ],
   "source": [
    "# use .copy() to overcome this:\n",
    "\n",
    "c = a.copy()\n",
    "c[0] = \"other world\"\n",
    "print(a)\n",
    "print(c)\n"
   ]
  }
 ],
 "metadata": {
  "language_info": {
   "codemirror_mode": {
    "name": "ipython",
    "version": 3
   },
   "file_extension": ".py",
   "mimetype": "text/x-python",
   "name": "python",
   "nbconvert_exporter": "python",
   "pygments_lexer": "ipython3",
   "version": "3.11.7"
  }
 },
 "nbformat": 4,
 "nbformat_minor": 2
}
