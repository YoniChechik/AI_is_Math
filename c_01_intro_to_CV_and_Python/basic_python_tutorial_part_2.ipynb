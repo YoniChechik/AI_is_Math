{
 "cells": [
  {
   "cell_type": "markdown",
   "metadata": {},
   "source": [
    "# Python Workshop: Basics II\n",
    "[![Open In Colab](https://colab.research.google.com/assets/colab-badge.svg)](https://colab.research.google.com/github/YoniChechik/AI_is_Math/blob/master/c_01_intro_to_CV_and_Python/basic_python_tutorial_part_2.ipynb)\n",
    "\n",
    "<hr>\n",
    "\n",
    "Based on:\n",
    "\n",
    "this [git](https://github.com/zhiyzuo/python-tutorial) of Zhiya Zuo\n",
    "\n",
    "&\n",
    "\n",
    "tutorials from [tutorialspoint](https://www.tutorialspoint.com/python)\n",
    "\n",
    "<hr>\n",
    "\n",
    "## Control Logics\n",
    "\n",
    "In the following examples, we show examples of comparison, `if-else` loop, `for` loop, and `while` loop.\n",
    "### Comparison\n",
    "Python syntax for comparison is the same as our hand-written convention:\n",
    "\n",
    "1. Larger (or equal): `>` (`>=`)\n",
    "2. Smaller (or equal): `<` (`<=`)\n",
    "3. Equal to: `==`\n",
    "4. Not equal to: `!=`\n",
    "\n"
   ]
  },
  {
   "cell_type": "code",
   "execution_count": 1,
   "metadata": {
    "execution": {
     "iopub.execute_input": "2025-01-02T09:30:52.442458Z",
     "iopub.status.busy": "2025-01-02T09:30:52.442458Z",
     "iopub.status.idle": "2025-01-02T09:30:52.465323Z",
     "shell.execute_reply": "2025-01-02T09:30:52.465323Z"
    }
   },
   "outputs": [
    {
     "data": {
      "text/plain": [
       "False"
      ]
     },
     "execution_count": 1,
     "metadata": {},
     "output_type": "execute_result"
    }
   ],
   "source": [
    "3 == 5"
   ]
  },
  {
   "cell_type": "code",
   "execution_count": 2,
   "metadata": {
    "execution": {
     "iopub.execute_input": "2025-01-02T09:30:52.474445Z",
     "iopub.status.busy": "2025-01-02T09:30:52.474445Z",
     "iopub.status.idle": "2025-01-02T09:30:52.489634Z",
     "shell.execute_reply": "2025-01-02T09:30:52.489634Z"
    }
   },
   "outputs": [
    {
     "data": {
      "text/plain": [
       "True"
      ]
     },
     "execution_count": 2,
     "metadata": {},
     "output_type": "execute_result"
    }
   ],
   "source": [
    "72 >= 2"
   ]
  },
  {
   "cell_type": "code",
   "execution_count": 3,
   "metadata": {
    "execution": {
     "iopub.execute_input": "2025-01-02T09:30:52.489634Z",
     "iopub.status.busy": "2025-01-02T09:30:52.489634Z",
     "iopub.status.idle": "2025-01-02T09:30:52.494231Z",
     "shell.execute_reply": "2025-01-02T09:30:52.494231Z"
    }
   },
   "outputs": [
    {
     "data": {
      "text/plain": [
       "True"
      ]
     },
     "execution_count": 3,
     "metadata": {},
     "output_type": "execute_result"
    }
   ],
   "source": [
    "test_str = \"test\"\n",
    "test_str == \"test\"  # can also compare strings"
   ]
  },
  {
   "cell_type": "markdown",
   "metadata": {},
   "source": [
    "### If-Else\n",
    "\n"
   ]
  },
  {
   "cell_type": "code",
   "execution_count": 4,
   "metadata": {
    "execution": {
     "iopub.execute_input": "2025-01-02T09:30:52.494231Z",
     "iopub.status.busy": "2025-01-02T09:30:52.494231Z",
     "iopub.status.idle": "2025-01-02T09:30:52.497897Z",
     "shell.execute_reply": "2025-01-02T09:30:52.497897Z"
    }
   },
   "outputs": [],
   "source": [
    "sum_ = 0\n"
   ]
  },
  {
   "cell_type": "code",
   "execution_count": 5,
   "metadata": {
    "execution": {
     "iopub.execute_input": "2025-01-02T09:30:52.497897Z",
     "iopub.status.busy": "2025-01-02T09:30:52.497897Z",
     "iopub.status.idle": "2025-01-02T09:30:52.502373Z",
     "shell.execute_reply": "2025-01-02T09:30:52.502373Z"
    }
   },
   "outputs": [
    {
     "name": "stdout",
     "output_type": "stream",
     "text": [
      "sum_ is 0\n"
     ]
    }
   ],
   "source": [
    "if sum_ == 0:\n",
    "    print(\"sum_ is 0\")\n",
    "elif sum_ < 0:\n",
    "    print(\"sum_ is less than 0\")\n",
    "else:\n",
    "    print(\"sum_ is above 0 and its value is \" + str(sum_))  # Cast sum_ into string type.\n"
   ]
  },
  {
   "cell_type": "markdown",
   "metadata": {},
   "source": [
    "Comparing strings are similar\n",
    "\n"
   ]
  },
  {
   "cell_type": "code",
   "execution_count": 6,
   "metadata": {
    "execution": {
     "iopub.execute_input": "2025-01-02T09:30:52.502373Z",
     "iopub.status.busy": "2025-01-02T09:30:52.502373Z",
     "iopub.status.idle": "2025-01-02T09:30:52.505828Z",
     "shell.execute_reply": "2025-01-02T09:30:52.505828Z"
    }
   },
   "outputs": [],
   "source": [
    "store_name = \"Walmart\"\n"
   ]
  },
  {
   "cell_type": "code",
   "execution_count": 7,
   "metadata": {
    "execution": {
     "iopub.execute_input": "2025-01-02T09:30:52.505828Z",
     "iopub.status.busy": "2025-01-02T09:30:52.505828Z",
     "iopub.status.idle": "2025-01-02T09:30:52.509551Z",
     "shell.execute_reply": "2025-01-02T09:30:52.509551Z"
    }
   },
   "outputs": [
    {
     "name": "stdout",
     "output_type": "stream",
     "text": [
      "The store is not Walmart. It's Walmart.\n"
     ]
    }
   ],
   "source": [
    "if \"Wal\" in store_name:\n",
    "    print(\"The store is not Walmart. It's \" + store_name + \".\")\n",
    "else:\n",
    "    print(\"The store is Walmart.\")\n"
   ]
  },
  {
   "cell_type": "markdown",
   "metadata": {},
   "source": [
    "### For loop\n",
    "\n"
   ]
  },
  {
   "cell_type": "code",
   "execution_count": 8,
   "metadata": {
    "execution": {
     "iopub.execute_input": "2025-01-02T09:30:52.509551Z",
     "iopub.status.busy": "2025-01-02T09:30:52.509551Z",
     "iopub.status.idle": "2025-01-02T09:30:52.513360Z",
     "shell.execute_reply": "2025-01-02T09:30:52.513360Z"
    }
   },
   "outputs": [
    {
     "name": "stdout",
     "output_type": "stream",
     "text": [
      "W\n",
      "a\n",
      "l\n",
      "m\n",
      "a\n",
      "r\n",
      "t\n"
     ]
    }
   ],
   "source": [
    "for letter in store_name:\n",
    "    print(letter)\n"
   ]
  },
  {
   "cell_type": "markdown",
   "metadata": {},
   "source": [
    "`range()` is a function to create integer sequences:\n",
    "\n"
   ]
  },
  {
   "cell_type": "code",
   "execution_count": 9,
   "metadata": {
    "execution": {
     "iopub.execute_input": "2025-01-02T09:30:52.513360Z",
     "iopub.status.busy": "2025-01-02T09:30:52.513360Z",
     "iopub.status.idle": "2025-01-02T09:30:52.517372Z",
     "shell.execute_reply": "2025-01-02T09:30:52.517372Z"
    }
   },
   "outputs": [
    {
     "name": "stdout",
     "output_type": "stream",
     "text": [
      "range(0, 5)\n",
      "range(5) gives[0, 1, 2, 3, 4]\n",
      "range(1,9) gives: [1, 2, 3, 4, 5, 6, 7, 8]\n"
     ]
    }
   ],
   "source": [
    "a_range = range(5)\n",
    "print(a_range)\n",
    "print(\"range(5) gives\" + str(list(range(5))))  # By default starts from 0\n",
    "print(\"range(1,9) gives: \" + str(list(range(1, 9))))  # From 1 to 8 (Again the end index is exclusive.)\n"
   ]
  },
  {
   "cell_type": "code",
   "execution_count": 10,
   "metadata": {
    "execution": {
     "iopub.execute_input": "2025-01-02T09:30:52.517372Z",
     "iopub.status.busy": "2025-01-02T09:30:52.517372Z",
     "iopub.status.idle": "2025-01-02T09:30:52.521126Z",
     "shell.execute_reply": "2025-01-02T09:30:52.521126Z"
    }
   },
   "outputs": [
    {
     "name": "stdout",
     "output_type": "stream",
     "text": [
      "The 0th letter in store_name is: W\n",
      "The 1th letter in store_name is: a\n",
      "The 2th letter in store_name is: l\n",
      "The 3th letter in store_name is: m\n",
      "The 4th letter in store_name is: a\n",
      "The 5th letter in store_name is: r\n",
      "The 6th letter in store_name is: t\n"
     ]
    }
   ],
   "source": [
    "for index in range(len(store_name)):  # length of a sequence\n",
    "    print(\"The %ith letter in store_name is: %s\" % (index, store_name[index]))\n"
   ]
  },
  {
   "cell_type": "markdown",
   "metadata": {},
   "source": [
    "#### List comprehensions\n",
    "List comprehensions provides an easy way to create lists:\n",
    "\n"
   ]
  },
  {
   "cell_type": "code",
   "execution_count": 11,
   "metadata": {
    "execution": {
     "iopub.execute_input": "2025-01-02T09:30:52.521126Z",
     "iopub.status.busy": "2025-01-02T09:30:52.521126Z",
     "iopub.status.idle": "2025-01-02T09:30:52.524635Z",
     "shell.execute_reply": "2025-01-02T09:30:52.524635Z"
    }
   },
   "outputs": [
    {
     "name": "stdout",
     "output_type": "stream",
     "text": [
      "[0, 1, 2, 3, 4, 5, 6, 7, 8, 9]\n"
     ]
    }
   ],
   "source": [
    "x = [i for i in range(10)]\n",
    "print(x)\n"
   ]
  },
  {
   "cell_type": "markdown",
   "metadata": {},
   "source": [
    "a lot of cool things can be done in one line!\n",
    "\n"
   ]
  },
  {
   "cell_type": "code",
   "execution_count": 12,
   "metadata": {
    "execution": {
     "iopub.execute_input": "2025-01-02T09:30:52.524635Z",
     "iopub.status.busy": "2025-01-02T09:30:52.524635Z",
     "iopub.status.idle": "2025-01-02T09:30:52.528768Z",
     "shell.execute_reply": "2025-01-02T09:30:52.528768Z"
    }
   },
   "outputs": [
    {
     "name": "stdout",
     "output_type": "stream",
     "text": [
      "[2, 3, 4, 5, 6, 7, 8, 9, 10, 11]\n",
      "[0, 4, 16, 36, 64]\n"
     ]
    }
   ],
   "source": [
    "x = [i + 2 for i in range(10)]\n",
    "print(x)\n",
    "\n",
    "x = [i**2 for i in range(10) if i % 2 == 0]\n",
    "print(x)\n"
   ]
  },
  {
   "cell_type": "markdown",
   "metadata": {},
   "source": [
    "### While loop\n",
    "\n"
   ]
  },
  {
   "cell_type": "code",
   "execution_count": 13,
   "metadata": {
    "execution": {
     "iopub.execute_input": "2025-01-02T09:30:52.528768Z",
     "iopub.status.busy": "2025-01-02T09:30:52.528768Z",
     "iopub.status.idle": "2025-01-02T09:30:52.532226Z",
     "shell.execute_reply": "2025-01-02T09:30:52.532226Z"
    }
   },
   "outputs": [],
   "source": [
    "x = 2\n"
   ]
  },
  {
   "cell_type": "code",
   "execution_count": 14,
   "metadata": {
    "execution": {
     "iopub.execute_input": "2025-01-02T09:30:52.532226Z",
     "iopub.status.busy": "2025-01-02T09:30:52.532226Z",
     "iopub.status.idle": "2025-01-02T09:30:52.536269Z",
     "shell.execute_reply": "2025-01-02T09:30:52.535801Z"
    }
   },
   "outputs": [
    {
     "name": "stdout",
     "output_type": "stream",
     "text": [
      "2\n",
      "3\n",
      "4\n",
      "5\n",
      "6\n",
      "7\n",
      "8\n",
      "9\n"
     ]
    }
   ],
   "source": [
    "while x < 10:\n",
    "    print(x)\n",
    "    x = x + 1\n"
   ]
  },
  {
   "cell_type": "markdown",
   "metadata": {},
   "source": [
    "#### Notes on `break` and `continue`\n",
    "`break` means get out of the loop immediately. Any code after the `break` will NOT be executed.\n",
    "\n"
   ]
  },
  {
   "cell_type": "code",
   "execution_count": 15,
   "metadata": {
    "execution": {
     "iopub.execute_input": "2025-01-02T09:30:52.536587Z",
     "iopub.status.busy": "2025-01-02T09:30:52.536587Z",
     "iopub.status.idle": "2025-01-02T09:30:52.539613Z",
     "shell.execute_reply": "2025-01-02T09:30:52.539613Z"
    }
   },
   "outputs": [],
   "source": [
    "store_name = \"Walmart\"\n"
   ]
  },
  {
   "cell_type": "code",
   "execution_count": 16,
   "metadata": {
    "execution": {
     "iopub.execute_input": "2025-01-02T09:30:52.540709Z",
     "iopub.status.busy": "2025-01-02T09:30:52.540709Z",
     "iopub.status.idle": "2025-01-02T09:30:52.543780Z",
     "shell.execute_reply": "2025-01-02T09:30:52.543780Z"
    }
   },
   "outputs": [
    {
     "name": "stdout",
     "output_type": "stream",
     "text": [
      "W\n",
      "End at a\n"
     ]
    }
   ],
   "source": [
    "index = 0\n",
    "while True:\n",
    "    print(store_name[index])\n",
    "    index += 1  # a += b means a = a + b\n",
    "    if store_name[index] == \"a\":\n",
    "        print(\"End at a\")\n",
    "        break  # instead of setting flag to False, we can directly break out of the loop\n",
    "        print(\"Hello!\")  # This will NOT be run\n"
   ]
  },
  {
   "cell_type": "markdown",
   "metadata": {},
   "source": [
    "`continue` means get to the next iteration of loop. It will __break__ the current iteration and __continue__ to the next.\n",
    "\n"
   ]
  },
  {
   "cell_type": "code",
   "execution_count": 17,
   "metadata": {
    "execution": {
     "iopub.execute_input": "2025-01-02T09:30:52.545487Z",
     "iopub.status.busy": "2025-01-02T09:30:52.545487Z",
     "iopub.status.idle": "2025-01-02T09:30:52.547672Z",
     "shell.execute_reply": "2025-01-02T09:30:52.547672Z"
    }
   },
   "outputs": [
    {
     "name": "stdout",
     "output_type": "stream",
     "text": [
      "W\n",
      "l\n",
      "m\n",
      "r\n",
      "t\n"
     ]
    }
   ],
   "source": [
    "for letter in store_name:\n",
    "    if letter == \"a\":\n",
    "        continue  # Not printing a\n",
    "    else:\n",
    "        print(letter)\n"
   ]
  },
  {
   "cell_type": "markdown",
   "metadata": {},
   "source": [
    "## Functions\n",
    "Structure of a function\n",
    "```python\n",
    "def func_name(arg1, arg2, arg3, ...):\n",
    "    #####################\n",
    "    # Do something here #\n",
    "    #####################\n",
    "    return output\n",
    "```\n",
    "\n",
    "return output` is **NOT** required\n",
    "### One input one output\n",
    "\n"
   ]
  },
  {
   "cell_type": "code",
   "execution_count": 18,
   "metadata": {
    "execution": {
     "iopub.execute_input": "2025-01-02T09:30:52.548774Z",
     "iopub.status.busy": "2025-01-02T09:30:52.548774Z",
     "iopub.status.idle": "2025-01-02T09:30:52.551389Z",
     "shell.execute_reply": "2025-01-02T09:30:52.551389Z"
    }
   },
   "outputs": [],
   "source": [
    "def F(n):  # bonus- what does this function do?\n",
    "    if n < 0:\n",
    "        print(\"Incorrect input\")\n",
    "    elif n == 0:\n",
    "        return 0\n",
    "    elif n == 1:\n",
    "        return 1\n",
    "    else:\n",
    "        return F(n - 1) + F(n - 2)\n"
   ]
  },
  {
   "cell_type": "code",
   "execution_count": 19,
   "metadata": {
    "execution": {
     "iopub.execute_input": "2025-01-02T09:30:52.552483Z",
     "iopub.status.busy": "2025-01-02T09:30:52.552483Z",
     "iopub.status.idle": "2025-01-02T09:30:52.555108Z",
     "shell.execute_reply": "2025-01-02T09:30:52.555108Z"
    }
   },
   "outputs": [
    {
     "name": "stdout",
     "output_type": "stream",
     "text": [
      "1\n",
      "2\n",
      "5\n",
      "13\n"
     ]
    }
   ],
   "source": [
    "print(F(2))\n",
    "\n",
    "print(F(3))\n",
    "\n",
    "print(F(5))\n",
    "\n",
    "print(F(7))\n"
   ]
  },
  {
   "cell_type": "markdown",
   "metadata": {},
   "source": [
    "### Multiple outputs\n",
    "reference- geometric sequence equations:\n",
    "\n",
    "$a_n = a_1 \\cdot q^{n-1}$\n",
    "\n",
    "$S_n = \\frac{a_1\\cdot(q^n-1)}{q-1}$\n",
    "\n"
   ]
  },
  {
   "cell_type": "code",
   "execution_count": 20,
   "metadata": {
    "execution": {
     "iopub.execute_input": "2025-01-02T09:30:52.557061Z",
     "iopub.status.busy": "2025-01-02T09:30:52.555954Z",
     "iopub.status.idle": "2025-01-02T09:30:52.559076Z",
     "shell.execute_reply": "2025-01-02T09:30:52.559076Z"
    }
   },
   "outputs": [],
   "source": [
    "def geo_seq(a_1, q, n):\n",
    "    a_n = a_1 * (q ** (n - 1))\n",
    "    S_n = (a_1 * (q**n - 1)) / (q - 1)\n",
    "    return a_n, S_n\n"
   ]
  },
  {
   "cell_type": "code",
   "execution_count": 21,
   "metadata": {
    "execution": {
     "iopub.execute_input": "2025-01-02T09:30:52.560761Z",
     "iopub.status.busy": "2025-01-02T09:30:52.560761Z",
     "iopub.status.idle": "2025-01-02T09:30:52.562908Z",
     "shell.execute_reply": "2025-01-02T09:30:52.562908Z"
    }
   },
   "outputs": [
    {
     "name": "stdout",
     "output_type": "stream",
     "text": [
      "(2, 2.0)\n",
      "(4, 6.0)\n",
      "(4, 6.0)\n",
      "14.0\n"
     ]
    }
   ],
   "source": [
    "print(geo_seq(2, 2, 1))  # multiple outputs returns as a tuple\n",
    "\n",
    "print(geo_seq(2, 2, 2))\n",
    "\n",
    "print(geo_seq(2, 2, 2))\n",
    "\n",
    "print(geo_seq(2, 2, 3)[1])  # get only second element\n"
   ]
  },
  {
   "cell_type": "markdown",
   "metadata": {},
   "source": [
    "### optional args\n",
    "\n"
   ]
  },
  {
   "cell_type": "code",
   "execution_count": 22,
   "metadata": {
    "execution": {
     "iopub.execute_input": "2025-01-02T09:30:52.564012Z",
     "iopub.status.busy": "2025-01-02T09:30:52.564012Z",
     "iopub.status.idle": "2025-01-02T09:30:52.567005Z",
     "shell.execute_reply": "2025-01-02T09:30:52.567005Z"
    }
   },
   "outputs": [],
   "source": [
    "def geo_seq_optional_args(a_1, q=2, n=1):\n",
    "    a_n = a_1 * (q ** (n - 1))\n",
    "    S_n = (a_1 * (q**n - 1)) / (q - 1)\n",
    "    return a_n, S_n\n"
   ]
  },
  {
   "cell_type": "code",
   "execution_count": 23,
   "metadata": {
    "execution": {
     "iopub.execute_input": "2025-01-02T09:30:52.568705Z",
     "iopub.status.busy": "2025-01-02T09:30:52.568705Z",
     "iopub.status.idle": "2025-01-02T09:30:52.570750Z",
     "shell.execute_reply": "2025-01-02T09:30:52.570750Z"
    }
   },
   "outputs": [
    {
     "name": "stdout",
     "output_type": "stream",
     "text": [
      "(2, 2.0)\n",
      "(4, 6.0)\n"
     ]
    }
   ],
   "source": [
    "print(geo_seq_optional_args(2))\n",
    "\n",
    "print(geo_seq_optional_args(2, n=2))\n"
   ]
  },
  {
   "cell_type": "markdown",
   "metadata": {},
   "source": [
    "## Classes\n",
    "As been said before- Python is object oriented programing (OOP) language, so every variable is actually an instance of some class.\n",
    "\n",
    "Here are some class basics:\n",
    "\n"
   ]
  },
  {
   "cell_type": "code",
   "execution_count": 24,
   "metadata": {
    "execution": {
     "iopub.execute_input": "2025-01-02T09:30:52.571857Z",
     "iopub.status.busy": "2025-01-02T09:30:52.571857Z",
     "iopub.status.idle": "2025-01-02T09:30:52.574905Z",
     "shell.execute_reply": "2025-01-02T09:30:52.574905Z"
    }
   },
   "outputs": [],
   "source": [
    "class Employee:\n",
    "    # the function that is being called each time a new instance is created\n",
    "    def __init__(self, name=\"Jhon\", salary=10000):\n",
    "        # per instance variables\n",
    "        self.name = name\n",
    "        self.salary = salary\n",
    "\n",
    "    def display_employee(self):\n",
    "        print(\"Name : \" + self.name + \", Salary: \" + str(self.salary))\n",
    "\n",
    "    def change_salary(self, new_salary):\n",
    "        self.salary = new_salary\n"
   ]
  },
  {
   "cell_type": "code",
   "execution_count": 25,
   "metadata": {
    "execution": {
     "iopub.execute_input": "2025-01-02T09:30:52.574905Z",
     "iopub.status.busy": "2025-01-02T09:30:52.574905Z",
     "iopub.status.idle": "2025-01-02T09:30:52.578894Z",
     "shell.execute_reply": "2025-01-02T09:30:52.578894Z"
    }
   },
   "outputs": [
    {
     "name": "stdout",
     "output_type": "stream",
     "text": [
      "Name : Jhon, Salary: 10000\n",
      "Name : Bob, Salary: 20000\n",
      "Name : Bob, Salary: 30000\n",
      "Name : Larry, Salary: 30000\n"
     ]
    }
   ],
   "source": [
    "emp1 = Employee()  # create new instance\n",
    "emp1.display_employee()\n",
    "\n",
    "emp2 = Employee(\"Bob\", salary=20000)  # create new instance\n",
    "emp2.display_employee()\n",
    "\n",
    "emp2.change_salary(30000)\n",
    "emp2.display_employee()\n",
    "\n",
    "# instance variables are also accessible - no such thing private/public vars\n",
    "emp2.name = \"Larry\"\n",
    "emp2.display_employee()\n"
   ]
  },
  {
   "cell_type": "markdown",
   "metadata": {},
   "source": [
    "## FIle I/O\n",
    "This section is about some basics on reading and writing data, in Python native style\n",
    "### Write data to a file\n",
    "\n"
   ]
  },
  {
   "cell_type": "code",
   "execution_count": 26,
   "metadata": {
    "execution": {
     "iopub.execute_input": "2025-01-02T09:30:52.578894Z",
     "iopub.status.busy": "2025-01-02T09:30:52.578894Z",
     "iopub.status.idle": "2025-01-02T09:30:52.582873Z",
     "shell.execute_reply": "2025-01-02T09:30:52.582873Z"
    }
   },
   "outputs": [],
   "source": [
    "f = open(\"tmp1.csv\", \"w\")  # f is a file handler, while \"w\" is the mode (w for write)\n",
    "for item in range(6):\n",
    "    f.write(str(item) + \"\\n\")\n",
    "f.close()  # close the filer handler for security reasons.\n"
   ]
  },
  {
   "cell_type": "markdown",
   "metadata": {},
   "source": [
    "*Note that without the typecasting from `int` to `str`, an error will be raised.*\n",
    "A more commonly used way:\n",
    "\n"
   ]
  },
  {
   "cell_type": "code",
   "execution_count": 27,
   "metadata": {
    "execution": {
     "iopub.execute_input": "2025-01-02T09:30:52.582873Z",
     "iopub.status.busy": "2025-01-02T09:30:52.582873Z",
     "iopub.status.idle": "2025-01-02T09:30:52.587561Z",
     "shell.execute_reply": "2025-01-02T09:30:52.587561Z"
    }
   },
   "outputs": [],
   "source": [
    "with open(\"tmp2.csv\", \"w\") as f:\n",
    "    for item in range(4):\n",
    "        f.write(str(item))\n",
    "        f.write(\"\\n\")\n",
    "# no need to close file, when out of 'with' scope the file closes automatically\n"
   ]
  },
  {
   "cell_type": "markdown",
   "metadata": {},
   "source": [
    "Occasionally, we need to _append new elements_ instead of _overwriting_ existing files. In this case, we should use `a` mode in our `open` function:\n",
    "\n"
   ]
  },
  {
   "cell_type": "code",
   "execution_count": 28,
   "metadata": {
    "execution": {
     "iopub.execute_input": "2025-01-02T09:30:52.588587Z",
     "iopub.status.busy": "2025-01-02T09:30:52.588587Z",
     "iopub.status.idle": "2025-01-02T09:30:52.592063Z",
     "shell.execute_reply": "2025-01-02T09:30:52.592063Z"
    }
   },
   "outputs": [],
   "source": [
    "with open(\"tmp2.csv\", \"a\") as f:  # 'a' == append to end of file\n",
    "    for item in range(15, 19):\n",
    "        f.write(str(item) + \"\\n\")\n"
   ]
  },
  {
   "cell_type": "markdown",
   "metadata": {},
   "source": [
    "### Read data to a file\n",
    "To read a text file into Python, we use `r` mode (for _read_)\n",
    "\n"
   ]
  },
  {
   "cell_type": "code",
   "execution_count": 29,
   "metadata": {
    "execution": {
     "iopub.execute_input": "2025-01-02T09:30:52.592063Z",
     "iopub.status.busy": "2025-01-02T09:30:52.592063Z",
     "iopub.status.idle": "2025-01-02T09:30:52.597392Z",
     "shell.execute_reply": "2025-01-02T09:30:52.597392Z"
    }
   },
   "outputs": [
    {
     "name": "stdout",
     "output_type": "stream",
     "text": [
      "['0', '1', '2', '3', '4', '5']\n"
     ]
    }
   ],
   "source": [
    "f = open(\"tmp1.csv\", \"r\")  # this time, use read mode\n",
    "contents = [\n",
    "    item.strip(\"\\n\") for item in f\n",
    "]  # list comprehension. This is the same as for-loop but more concise + stripping newline\n",
    "print(contents)\n",
    "f.close()\n"
   ]
  },
  {
   "cell_type": "markdown",
   "metadata": {},
   "source": [
    "Also using `with`:\n",
    "\n"
   ]
  },
  {
   "cell_type": "code",
   "execution_count": 30,
   "metadata": {
    "execution": {
     "iopub.execute_input": "2025-01-02T09:30:52.597392Z",
     "iopub.status.busy": "2025-01-02T09:30:52.597392Z",
     "iopub.status.idle": "2025-01-02T09:30:52.601830Z",
     "shell.execute_reply": "2025-01-02T09:30:52.601830Z"
    }
   },
   "outputs": [
    {
     "name": "stdout",
     "output_type": "stream",
     "text": [
      "['0\\n', '1\\n', '2\\n', '3\\n', '15\\n', '16\\n', '17\\n', '18\\n']\n"
     ]
    }
   ],
   "source": [
    "with open(\"tmp2.csv\", \"r\") as f:\n",
    "    print(f.readlines())\n"
   ]
  },
  {
   "cell_type": "code",
   "execution_count": 31,
   "metadata": {
    "execution": {
     "iopub.execute_input": "2025-01-02T09:30:52.601830Z",
     "iopub.status.busy": "2025-01-02T09:30:52.601830Z",
     "iopub.status.idle": "2025-01-02T09:30:52.619433Z",
     "shell.execute_reply": "2025-01-02T09:30:52.619433Z"
    }
   },
   "outputs": [],
   "source": [
    "# delete the files...\n",
    "import os\n",
    "\n",
    "os.remove(\"tmp1.csv\")\n",
    "os.remove(\"tmp2.csv\")\n"
   ]
  },
  {
   "cell_type": "markdown",
   "metadata": {},
   "source": [
    "## Packages\n",
    "Often times, we need either internal or external help for complicated computation tasks. In these occasions, we need to _import packages_.\n",
    "### Built-in packages\n",
    "Python provides many built-in packages to prevent extra work on some common and useful functions\n",
    "\n",
    "We will use __math__ as an example.\n",
    "\n"
   ]
  },
  {
   "cell_type": "code",
   "execution_count": 32,
   "metadata": {
    "execution": {
     "iopub.execute_input": "2025-01-02T09:30:52.619433Z",
     "iopub.status.busy": "2025-01-02T09:30:52.619433Z",
     "iopub.status.idle": "2025-01-02T09:30:52.622946Z",
     "shell.execute_reply": "2025-01-02T09:30:52.622946Z"
    }
   },
   "outputs": [],
   "source": [
    "import math  # use import to load a library\n"
   ]
  },
  {
   "cell_type": "markdown",
   "metadata": {},
   "source": [
    "To use functions from the library, do: `library_name.function_name`. For example, when we want to calculate the logarithm using a function from `math` library, we can do `math.log`\n",
    "\n"
   ]
  },
  {
   "cell_type": "code",
   "execution_count": 33,
   "metadata": {
    "execution": {
     "iopub.execute_input": "2025-01-02T09:30:52.622946Z",
     "iopub.status.busy": "2025-01-02T09:30:52.622946Z",
     "iopub.status.idle": "2025-01-02T09:30:52.626908Z",
     "shell.execute_reply": "2025-01-02T09:30:52.626908Z"
    }
   },
   "outputs": [
    {
     "name": "stdout",
     "output_type": "stream",
     "text": [
      "e^x = e^3 = 20.085537\n",
      "log(x) = log(3) = 1.098612\n"
     ]
    }
   ],
   "source": [
    "x = 3\n",
    "print(\"e^x = e^3 = %f\" % math.exp(x))\n",
    "print(\"log(x) = log(3) = %f\" % math.log(x))\n"
   ]
  },
  {
   "cell_type": "markdown",
   "metadata": {},
   "source": [
    "You can also import one specific function:\n",
    "\n"
   ]
  },
  {
   "cell_type": "code",
   "execution_count": 34,
   "metadata": {
    "execution": {
     "iopub.execute_input": "2025-01-02T09:30:52.626908Z",
     "iopub.status.busy": "2025-01-02T09:30:52.626908Z",
     "iopub.status.idle": "2025-01-02T09:30:52.630810Z",
     "shell.execute_reply": "2025-01-02T09:30:52.630810Z"
    }
   },
   "outputs": [
    {
     "name": "stdout",
     "output_type": "stream",
     "text": [
      "20.085536923187668\n"
     ]
    }
   ],
   "source": [
    "from math import exp  # You can import a specific function\n",
    "\n",
    "print(exp(x))  # This way, you don't need to use math.exp but just exp\n"
   ]
  },
  {
   "cell_type": "markdown",
   "metadata": {},
   "source": [
    "Or all:\n",
    "\n"
   ]
  },
  {
   "cell_type": "code",
   "execution_count": 35,
   "metadata": {
    "execution": {
     "iopub.execute_input": "2025-01-02T09:30:52.630810Z",
     "iopub.status.busy": "2025-01-02T09:30:52.630810Z",
     "iopub.status.idle": "2025-01-02T09:30:52.634642Z",
     "shell.execute_reply": "2025-01-02T09:30:52.634642Z"
    }
   },
   "outputs": [],
   "source": [
    "from math import *  # Import all functions - not recommended do to overriding of functions\n"
   ]
  },
  {
   "cell_type": "code",
   "execution_count": 36,
   "metadata": {
    "execution": {
     "iopub.execute_input": "2025-01-02T09:30:52.634642Z",
     "iopub.status.busy": "2025-01-02T09:30:52.634642Z",
     "iopub.status.idle": "2025-01-02T09:30:52.638304Z",
     "shell.execute_reply": "2025-01-02T09:30:52.638304Z"
    }
   },
   "outputs": [
    {
     "name": "stdout",
     "output_type": "stream",
     "text": [
      "20.085536923187668\n",
      "1.0986122886681098\n"
     ]
    }
   ],
   "source": [
    "print(exp(x))\n",
    "print(log(x))  # Before importing math, calling `exp` or `log` will raise errors\n"
   ]
  },
  {
   "cell_type": "markdown",
   "metadata": {},
   "source": [
    "You can import a package with a shortened name:\n",
    "\n"
   ]
  },
  {
   "cell_type": "code",
   "execution_count": 37,
   "metadata": {
    "execution": {
     "iopub.execute_input": "2025-01-02T09:30:52.639510Z",
     "iopub.status.busy": "2025-01-02T09:30:52.639510Z",
     "iopub.status.idle": "2025-01-02T09:30:52.642690Z",
     "shell.execute_reply": "2025-01-02T09:30:52.642690Z"
    }
   },
   "outputs": [
    {
     "data": {
      "text/plain": [
       "20.085536923187668"
      ]
     },
     "execution_count": 37,
     "metadata": {},
     "output_type": "execute_result"
    }
   ],
   "source": [
    "import math as m\n",
    "\n",
    "m.exp(3)\n"
   ]
  },
  {
   "cell_type": "markdown",
   "metadata": {},
   "source": [
    "Depending on what you want to achieve, you may want to choose between importing a few or all (by `*`) functions within a package.\n",
    "### External Packages\n",
    "There are times you'll want some advanced utility functions not provided by Python. There are many useful packages by developers.\n",
    "\n",
    "We'll use __numpy__ as an example. (__numpy__, __scipy__, __matplotlib__,and probably __pandas__ will be of the most importance to you for data analyses.\n",
    "\n",
    "Installation of packages for Python is the easiest using <a href=\"https://packaging.python.org/installing/\" target=\"_blank\">pip</a>:\n",
    "```bash\n",
    "~$ pip install numpy\n",
    "```\n",
    "We'll see use for external packages later on.\n",
    "\n"
   ]
  }
 ],
 "metadata": {
  "language_info": {
   "codemirror_mode": {
    "name": "ipython",
    "version": 3
   },
   "file_extension": ".py",
   "mimetype": "text/x-python",
   "name": "python",
   "nbconvert_exporter": "python",
   "pygments_lexer": "ipython3",
   "version": "3.11.7"
  }
 },
 "nbformat": 4,
 "nbformat_minor": 2
}
